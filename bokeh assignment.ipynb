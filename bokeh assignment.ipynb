{
 "cells": [
  {
   "cell_type": "raw",
   "id": "edf2a653-f14b-4e97-9144-be0ae69025d1",
   "metadata": {},
   "source": [
    "1.Create a Bokeh plot displaying a sine wave. Set x-values from 0 to 10 and y-values as the sine of x"
   ]
  },
  {
   "cell_type": "raw",
   "id": "6cc32768-da93-4bba-8a42-6c180829938c",
   "metadata": {},
   "source": [
    "Answer:-"
   ]
  },
  {
   "cell_type": "code",
   "execution_count": 1,
   "id": "66923d10-af23-41aa-9c6a-c1456e19c593",
   "metadata": {},
   "outputs": [],
   "source": [
    "import numpy as np\n",
    "from bokeh.plotting import figure, show\n",
    "from bokeh.io import output_file\n",
    "\n",
    "\n",
    "output_file(\"sine_wave.html\")\n",
    "\n",
    "\n",
    "x = np.linspace(0, 10, 100)\n",
    "\n",
    "\n",
    "y = np.sin(x)\n",
    "\n",
    "\n",
    "p = figure(title=\"Sine Wave\", x_axis_label='X', y_axis_label='Y')\n",
    "\n",
    "\n",
    "p.line(x, y, legend_label=\"y = sin(x)\", line_width=2, color=\"blue\")\n",
    "\n",
    "show(p)\n"
   ]
  },
  {
   "cell_type": "raw",
   "id": "fff9e4f6-d7d8-4ecd-a48d-b9856e76409c",
   "metadata": {},
   "source": [
    "2.Create a Bokeh scatter plot using randomly generated x and y values. Use different sizes and colors for the\n",
    "markers based on the 'sizes' and 'colors' columns"
   ]
  },
  {
   "cell_type": "raw",
   "id": "0f0a8ea7-72a5-4134-8ce6-f85baa663ee3",
   "metadata": {},
   "source": [
    "Answer:-"
   ]
  },
  {
   "cell_type": "code",
   "execution_count": 7,
   "id": "99863b64-acb3-4335-a0b2-5e58fde69e38",
   "metadata": {},
   "outputs": [],
   "source": [
    "import numpy as np\n",
    "import pandas as pd\n",
    "from bokeh.plotting import figure, show\n",
    "from bokeh.io import output_file\n",
    "from bokeh.models import ColumnDataSource\n",
    "\n",
    "\n",
    "output_file(\"scatter_plot.html\")\n",
    "\n",
    "np.random.seed(42)\n",
    "n = 100  \n",
    "x = np.random.rand(n) * 10\n",
    "y = np.random.rand(n) * 10  \n",
    "sizes = np.random.rand(n) * 1000  \n",
    "colors = np.random.rand(n)  \n",
    "data = {\n",
    "    'x': x,\n",
    "    'y': y,\n",
    "    'sizes': sizes,\n",
    "    'colors': colors\n",
    "}\n",
    "\n",
    "df = pd.DataFrame(data)\n",
    "\n",
    "\n",
    "source = ColumnDataSource(df)\n",
    "\n",
    "p = figure(title=\"Random Scatter Plot with Varying Sizes and Colors\",\n",
    "           x_axis_label='X', y_axis_label='Y', tools=\"pan,box_zoom,reset\")\n",
    "\n",
    "p.scatter(x='x', y='y', size='sizes', color='colors', source=source, legend_field='sizes',\n",
    "          fill_alpha=0.6, marker=\"circle\")\n",
    "\n",
    "show(p)\n"
   ]
  },
  {
   "cell_type": "raw",
   "id": "6681380f-61f9-4878-ac78-3d861c93cb1c",
   "metadata": {},
   "source": [
    "3. Generate a Bokeh bar chart representing the counts of different fruits using the following dataset."
   ]
  },
  {
   "cell_type": "raw",
   "id": "8f1464ba-c0e0-4262-9de9-e8c6c88ea38d",
   "metadata": {},
   "source": [
    "Answer:-"
   ]
  },
  {
   "cell_type": "code",
   "execution_count": 9,
   "id": "e083254c-83b9-46f5-8a1b-ef08d4f33777",
   "metadata": {},
   "outputs": [
    {
     "name": "stderr",
     "output_type": "stream",
     "text": [
      "ERROR:bokeh.core.validation.check:E-1001 (BAD_COLUMN_NAME): Glyph refers to nonexistent column name. This could either be due to a misspelling or typo, or due to an expected column being missing. : LegendItem(id='p1222', ...)\n"
     ]
    }
   ],
   "source": [
    "from bokeh.plotting import figure, show\n",
    "from bokeh.io import output_file\n",
    "from bokeh.palettes import Category10\n",
    "\n",
    "fruits = ['Apples', 'Oranges', 'Bananas', 'Pears']\n",
    "counts = [20, 25, 30, 35]\n",
    "\n",
    "\n",
    "output_file(\"fruit_bar_chart.html\")\n",
    "\n",
    "\n",
    "p = figure(x_range=fruits, title=\"Fruit Count Bar Chart\", toolbar_location=None, tools=\"\")\n",
    "\n",
    "\n",
    "p.vbar(x=fruits, top=counts, width=0.5, color=Category10[4], legend_field=\"fruits\")\n",
    "\n",
    "p.xaxis.axis_label = \"Fruit\"\n",
    "p.yaxis.axis_label = \"Count\"\n",
    "p.legend.title = \"Fruits\"\n",
    "\n",
    "\n",
    "p.xgrid.grid_line_color = None  \n",
    "p.y_range.start = 0  \n",
    "p.legend.location = \"top_left\"  \n",
    "\n",
    "show(p)\n"
   ]
  },
  {
   "cell_type": "raw",
   "id": "d468e4a1-ffa2-46ec-8d4b-d9ff521c2afe",
   "metadata": {},
   "source": [
    "4. Create a Bokeh histogram to visualize the distribution of the given data"
   ]
  },
  {
   "cell_type": "raw",
   "id": "efa0ae36-b9ca-4da8-b4f7-f25c8707f4d4",
   "metadata": {},
   "source": [
    "Answer:-"
   ]
  },
  {
   "cell_type": "code",
   "execution_count": 11,
   "id": "8830f8b9-0b26-460c-bb20-cce8675d8fe3",
   "metadata": {},
   "outputs": [],
   "source": [
    "import numpy as np\n",
    "from bokeh.plotting import figure, show\n",
    "from bokeh.io import output_file\n",
    "\n",
    "output_file(\"histogram.html\")\n",
    "data_hist = np.random.randn(1000)\n",
    "\n",
    "\n",
    "hist, edges = np.histogram(data_hist, bins=30)\n",
    "p = figure(title=\"Histogram of Random Data\", \n",
    "           x_axis_label='Value', y_axis_label='Frequency', \n",
    "           tools=\"pan,box_zoom,reset\")\n",
    "\n",
    "\n",
    "p.quad(top=hist, bottom=0, left=edges[:-1], right=edges[1:], \n",
    "       fill_color=\"skyblue\", line_color=\"white\", alpha=0.7)\n",
    "\n",
    "\n",
    "show(p)\n"
   ]
  },
  {
   "cell_type": "raw",
   "id": "1a47b12b-d9e1-4a02-9922-2699e8116ae1",
   "metadata": {},
   "source": [
    "5. Create a Bokeh heatmap using the provided dataset."
   ]
  },
  {
   "cell_type": "raw",
   "id": "c15d2b50-3172-42ab-ae99-8adfa3daabe7",
   "metadata": {},
   "source": [
    "Answer:-"
   ]
  },
  {
   "cell_type": "code",
   "execution_count": 17,
   "id": "04cf8108-26a5-4ee1-98b2-bd04488ec4bc",
   "metadata": {},
   "outputs": [
    {
     "ename": "RuntimeError",
     "evalue": "\n\nExpected x and y to reference fields in the supplied data source.\n\nWhen a 'source' argument is passed to a glyph method, values that are sequences\n(like lists or arrays) must come from references to data columns in the source.\n\nFor instance, as an example:\n\n    source = ColumnDataSource(data=dict(x=a_list, y=an_array))\n\n    p.circle(x='x', y='y', source=source, ...) # pass column names and a source\n\nAlternatively, *all* data sequences may be provided as literals as long as a\nsource is *not* provided:\n\n    p.circle(x=a_list, y=an_array, ...)  # pass actual sequences and no source\n\n",
     "output_type": "error",
     "traceback": [
      "\u001b[1;31m---------------------------------------------------------------------------\u001b[0m",
      "\u001b[1;31mRuntimeError\u001b[0m                              Traceback (most recent call last)",
      "Cell \u001b[1;32mIn[17], line 26\u001b[0m\n\u001b[0;32m     21\u001b[0m color_mapper \u001b[38;5;241m=\u001b[39m LinearColorMapper(palette\u001b[38;5;241m=\u001b[39mViridis256, low\u001b[38;5;241m=\u001b[39m\u001b[38;5;28mmin\u001b[39m(z_vals), high\u001b[38;5;241m=\u001b[39m\u001b[38;5;28mmax\u001b[39m(z_vals))\n\u001b[0;32m     23\u001b[0m p \u001b[38;5;241m=\u001b[39m figure(title\u001b[38;5;241m=\u001b[39m\u001b[38;5;124m\"\u001b[39m\u001b[38;5;124mHeatmap Example\u001b[39m\u001b[38;5;124m\"\u001b[39m, x_axis_label\u001b[38;5;241m=\u001b[39m\u001b[38;5;124m'\u001b[39m\u001b[38;5;124mX\u001b[39m\u001b[38;5;124m'\u001b[39m, y_axis_label\u001b[38;5;241m=\u001b[39m\u001b[38;5;124m'\u001b[39m\u001b[38;5;124mY\u001b[39m\u001b[38;5;124m'\u001b[39m, \n\u001b[0;32m     24\u001b[0m            tools\u001b[38;5;241m=\u001b[39m\u001b[38;5;124m\"\u001b[39m\u001b[38;5;124mhover,pan,box_zoom,reset\u001b[39m\u001b[38;5;124m\"\u001b[39m, tooltips\u001b[38;5;241m=\u001b[39m[(\u001b[38;5;124m\"\u001b[39m\u001b[38;5;124mx\u001b[39m\u001b[38;5;124m\"\u001b[39m, \u001b[38;5;124m\"\u001b[39m\u001b[38;5;124m@x\u001b[39m\u001b[38;5;124m\"\u001b[39m), (\u001b[38;5;124m\"\u001b[39m\u001b[38;5;124my\u001b[39m\u001b[38;5;124m\"\u001b[39m, \u001b[38;5;124m\"\u001b[39m\u001b[38;5;124m@y\u001b[39m\u001b[38;5;124m\"\u001b[39m), (\u001b[38;5;124m\"\u001b[39m\u001b[38;5;124mvalue\u001b[39m\u001b[38;5;124m\"\u001b[39m, \u001b[38;5;124m\"\u001b[39m\u001b[38;5;124m@z\u001b[39m\u001b[38;5;124m\"\u001b[39m)])\n\u001b[1;32m---> 26\u001b[0m p\u001b[38;5;241m.\u001b[39mrect(x\u001b[38;5;241m=\u001b[39mx_vals, y\u001b[38;5;241m=\u001b[39my_vals, width\u001b[38;5;241m=\u001b[39m\u001b[38;5;241m0.1\u001b[39m, height\u001b[38;5;241m=\u001b[39m\u001b[38;5;241m0.1\u001b[39m, color\u001b[38;5;241m=\u001b[39mlinear_cmap(\u001b[38;5;124m'\u001b[39m\u001b[38;5;124mz\u001b[39m\u001b[38;5;124m'\u001b[39m, Viridis256, \u001b[38;5;28mmin\u001b[39m(z_vals), \u001b[38;5;28mmax\u001b[39m(z_vals)), source\u001b[38;5;241m=\u001b[39m{\u001b[38;5;124m'\u001b[39m\u001b[38;5;124mx\u001b[39m\u001b[38;5;124m'\u001b[39m: x_vals, \u001b[38;5;124m'\u001b[39m\u001b[38;5;124my\u001b[39m\u001b[38;5;124m'\u001b[39m: y_vals, \u001b[38;5;124m'\u001b[39m\u001b[38;5;124mz\u001b[39m\u001b[38;5;124m'\u001b[39m: z_vals})\n\u001b[0;32m     27\u001b[0m show(p)\n",
      "File \u001b[1;32m~\\anaconda3\\Lib\\site-packages\\bokeh\\plotting\\_decorators.py:89\u001b[0m, in \u001b[0;36mglyph_method.<locals>.decorator.<locals>.wrapped\u001b[1;34m(self, *args, **kwargs)\u001b[0m\n\u001b[0;32m     87\u001b[0m \u001b[38;5;28;01mif\u001b[39;00m \u001b[38;5;28mself\u001b[39m\u001b[38;5;241m.\u001b[39mcoordinates \u001b[38;5;129;01mis\u001b[39;00m \u001b[38;5;129;01mnot\u001b[39;00m \u001b[38;5;28;01mNone\u001b[39;00m:\n\u001b[0;32m     88\u001b[0m     kwargs\u001b[38;5;241m.\u001b[39msetdefault(\u001b[38;5;124m\"\u001b[39m\u001b[38;5;124mcoordinates\u001b[39m\u001b[38;5;124m\"\u001b[39m, \u001b[38;5;28mself\u001b[39m\u001b[38;5;241m.\u001b[39mcoordinates)\n\u001b[1;32m---> 89\u001b[0m \u001b[38;5;28;01mreturn\u001b[39;00m create_renderer(glyphclass, \u001b[38;5;28mself\u001b[39m\u001b[38;5;241m.\u001b[39mplot, \u001b[38;5;241m*\u001b[39m\u001b[38;5;241m*\u001b[39mkwargs)\n",
      "File \u001b[1;32m~\\anaconda3\\Lib\\site-packages\\bokeh\\plotting\\_renderer.py:93\u001b[0m, in \u001b[0;36mcreate_renderer\u001b[1;34m(glyphclass, plot, **kwargs)\u001b[0m\n\u001b[0;32m     91\u001b[0m incompatible_literal_spec_values \u001b[38;5;241m+\u001b[39m\u001b[38;5;241m=\u001b[39m _process_sequence_literals(glyphclass, glyph_visuals, source, is_user_source)\n\u001b[0;32m     92\u001b[0m \u001b[38;5;28;01mif\u001b[39;00m incompatible_literal_spec_values:\n\u001b[1;32m---> 93\u001b[0m     \u001b[38;5;28;01mraise\u001b[39;00m \u001b[38;5;167;01mRuntimeError\u001b[39;00m(_GLYPH_SOURCE_MSG \u001b[38;5;241m%\u001b[39m nice_join(incompatible_literal_spec_values, conjunction\u001b[38;5;241m=\u001b[39m\u001b[38;5;124m\"\u001b[39m\u001b[38;5;124mand\u001b[39m\u001b[38;5;124m\"\u001b[39m))\n\u001b[0;32m     95\u001b[0m \u001b[38;5;66;03m# handle the nonselection glyph, we always set one\u001b[39;00m\n\u001b[0;32m     96\u001b[0m nonselection_visuals \u001b[38;5;241m=\u001b[39m pop_visuals(glyphclass, kwargs, prefix\u001b[38;5;241m=\u001b[39m\u001b[38;5;124m'\u001b[39m\u001b[38;5;124mnonselection_\u001b[39m\u001b[38;5;124m'\u001b[39m, defaults\u001b[38;5;241m=\u001b[39mglyph_visuals, override_defaults\u001b[38;5;241m=\u001b[39m{\u001b[38;5;124m'\u001b[39m\u001b[38;5;124malpha\u001b[39m\u001b[38;5;124m'\u001b[39m:\u001b[38;5;241m0.1\u001b[39m})\n",
      "\u001b[1;31mRuntimeError\u001b[0m: \n\nExpected x and y to reference fields in the supplied data source.\n\nWhen a 'source' argument is passed to a glyph method, values that are sequences\n(like lists or arrays) must come from references to data columns in the source.\n\nFor instance, as an example:\n\n    source = ColumnDataSource(data=dict(x=a_list, y=an_array))\n\n    p.circle(x='x', y='y', source=source, ...) # pass column names and a source\n\nAlternatively, *all* data sequences may be provided as literals as long as a\nsource is *not* provided:\n\n    p.circle(x=a_list, y=an_array, ...)  # pass actual sequences and no source\n\n"
     ]
    }
   ],
   "source": [
    "import numpy as np\n",
    "from bokeh.plotting import figure, show\n",
    "from bokeh.io import output_file\n",
    "from bokeh.models import LinearColorMapper\n",
    "from bokeh.palettes import Viridis256\n",
    "from bokeh.transform import linear_cmap\n",
    "\n",
    "output_file(\"heatmap.html\")\n",
    "\n",
    "data_heatmap = np.random.rand(10, 10)\n",
    "x = np.linspace(0, 1, 10)\n",
    "y = np.linspace(0, 1, 10)\n",
    "xx, yy = np.meshgrid(x, y)\n",
    "\n",
    "\n",
    "x_vals = xx.flatten()\n",
    "y_vals = yy.flatten()\n",
    "z_vals = data_heatmap.flatten()\n",
    "\n",
    "\n",
    "color_mapper = LinearColorMapper(palette=Viridis256, low=min(z_vals), high=max(z_vals))\n",
    "\n",
    "p = figure(title=\"Heatmap Example\", x_axis_label='X', y_axis_label='Y', \n",
    "           tools=\"hover,pan,box_zoom,reset\", tooltips=[(\"x\", \"@x\"), (\"y\", \"@y\"), (\"value\", \"@z\")])\n",
    "\n",
    "p.rect(x=x_vals, y=y_vals, width=0.1, height=0.1, color=linear_cmap('z', Viridis256, min(z_vals), max(z_vals)), source={'x': x_vals, 'y': y_vals, 'z': z_vals})\n",
    "show(p)\n"
   ]
  },
  {
   "cell_type": "code",
   "execution_count": null,
   "id": "9cd3b9d7-7952-47e9-beee-83edebcf1cdf",
   "metadata": {},
   "outputs": [],
   "source": []
  }
 ],
 "metadata": {
  "kernelspec": {
   "display_name": "Python 3 (ipykernel)",
   "language": "python",
   "name": "python3"
  },
  "language_info": {
   "codemirror_mode": {
    "name": "ipython",
    "version": 3
   },
   "file_extension": ".py",
   "mimetype": "text/x-python",
   "name": "python",
   "nbconvert_exporter": "python",
   "pygments_lexer": "ipython3",
   "version": "3.12.4"
  }
 },
 "nbformat": 4,
 "nbformat_minor": 5
}
